{
 "cells": [
  {
   "cell_type": "code",
   "execution_count": 3,
   "id": "323ba487",
   "metadata": {},
   "outputs": [
    {
     "name": "stderr",
     "output_type": "stream",
     "text": [
      "\u001b[32m\u001b[1m  Activating\u001b[22m\u001b[39m new environment at `F:\\Libraries\\Documents\\MIT\\Research\\Berk\\OptimalConstraintTree\\test\\demos\\test\\Project.toml`\n"
     ]
    },
    {
     "ename": "LoadError",
     "evalue": "LoadError: LoadError: ArgumentError: Package CPLEX not found in current path:\n- Run `import Pkg; Pkg.add(\"CPLEX\")` to install the CPLEX package.\n\nin expression starting at F:\\Libraries\\Documents\\MIT\\Research\\Berk\\OptimalConstraintTree\\src\\GoML.jl:1\nin expression starting at F:\\Libraries\\Documents\\MIT\\Research\\Berk\\OptimalConstraintTree\\test\\load.jl:24",
     "output_type": "error",
     "traceback": [
      "LoadError: LoadError: ArgumentError: Package CPLEX not found in current path:\n- Run `import Pkg; Pkg.add(\"CPLEX\")` to install the CPLEX package.\n\nin expression starting at F:\\Libraries\\Documents\\MIT\\Research\\Berk\\OptimalConstraintTree\\src\\GoML.jl:1\nin expression starting at F:\\Libraries\\Documents\\MIT\\Research\\Berk\\OptimalConstraintTree\\test\\load.jl:24",
      "",
      "Stacktrace:",
      " [1] require(into::Module, mod::Symbol)",
      "   @ Base .\\loading.jl:893",
      " [2] include(fname::String)",
      "   @ Base.MainInclude .\\client.jl:444",
      " [3] top-level scope",
      "   @ F:\\Libraries\\Documents\\MIT\\Research\\Berk\\OptimalConstraintTree\\test\\load.jl:24",
      " [4] include(fname::String)",
      "   @ Base.MainInclude .\\client.jl:444",
      " [5] top-level scope",
      "   @ In[3]:1",
      " [6] eval",
      "   @ .\\boot.jl:360 [inlined]",
      " [7] include_string(mapexpr::typeof(REPL.softscope), mod::Module, code::String, filename::String)",
      "   @ Base .\\loading.jl:1116"
     ]
    }
   ],
   "source": [
    "include(\"../load.jl\")"
   ]
  },
  {
   "cell_type": "code",
   "execution_count": null,
   "id": "2f0e2488",
   "metadata": {},
   "outputs": [],
   "source": [
    "include(\"../../data/speed_reducer.jl\")"
   ]
  },
  {
   "cell_type": "code",
   "execution_count": null,
   "id": "fdf62f11",
   "metadata": {},
   "outputs": [],
   "source": [
    "gm = speed_reducer()\n",
    "uniform_sample_and_eval!(gm)\n",
    "set_param(gm, :ignore_accuracy, true)"
   ]
  },
  {
   "cell_type": "code",
   "execution_count": null,
   "id": "ab233815",
   "metadata": {},
   "outputs": [],
   "source": [
    "feasibility_sample(gm)"
   ]
  },
  {
   "cell_type": "code",
   "execution_count": null,
   "id": "43dfc549",
   "metadata": {},
   "outputs": [],
   "source": [
    "learn_constraint!(gm, max_depth=5)\n",
    "add_tree_constraints!(gm)\n",
    "optimize!(gm)\n",
    "solution(gm)"
   ]
  },
  {
   "cell_type": "code",
   "execution_count": null,
   "id": "14ad7352",
   "metadata": {
    "tags": []
   },
   "outputs": [],
   "source": [
    "add_infeasibility_cuts!(gm)\n",
    "optimize!(gm)\n",
    "while abs(gm.cost[end] - gm.cost[end-1]) > 1e-10\n",
    "    add_infeasibility_cuts!(gm)\n",
    "    optimize!(gm)\n",
    "end"
   ]
  },
  {
   "cell_type": "code",
   "execution_count": null,
   "id": "a541f204",
   "metadata": {},
   "outputs": [],
   "source": [
    "# Showing the iterations\n",
    "show(stdout, MIME(\"text/latex\"), gm.solution_history)\n",
    "IAI.score(gm.bbls[1].learners[end], gm.bbls[1].X, gm.bbls[1].Y)"
   ]
  },
  {
   "cell_type": "code",
   "execution_count": null,
   "id": "fa650b52",
   "metadata": {},
   "outputs": [],
   "source": [
    "# Checking that the solution is feasible\n",
    "x = solution(gm)\n",
    "for bbl in gm.bbls\n",
    "    println(bbl.feas_gap[end])\n",
    "end\n",
    "IAI.show_in_browser(gm.bbls[6].learners[end])\n",
    "# gm.bbls[6].constraint"
   ]
  },
  {
   "cell_type": "code",
   "execution_count": null,
   "id": "73398264",
   "metadata": {},
   "outputs": [],
   "source": []
  },
  {
   "cell_type": "code",
   "execution_count": null,
   "id": "e23e59e2",
   "metadata": {},
   "outputs": [],
   "source": [
    "m = speed_reducer()\n",
    "uniform_sample_and_eval!(m)\n",
    "unset_integer(m.model[:x][3])\n",
    "using Ipopt\n",
    "set_optimizer(m, Ipopt.Optimizer)\n",
    "set_optimizer_attribute(m.model, \"constr_viol_tol\", 1e-7)\n",
    "nonlinearize!(m)\n",
    "optimize!(m)"
   ]
  },
  {
   "cell_type": "code",
   "execution_count": null,
   "id": "103d6d9a",
   "metadata": {},
   "outputs": [],
   "source": [
    "x = solution(m)"
   ]
  },
  {
   "cell_type": "code",
   "execution_count": null,
   "id": "ac325a04",
   "metadata": {},
   "outputs": [],
   "source": [
    "for bbl in m.bbls\n",
    "    # @assert bbl(x)[1] == bbl.feas_gap[end] >= 0\n",
    "    println(bbl.feas_gap[end])\n",
    "end\n",
    "(1 - m.bbls[1].feas_gap[end]) * m.bbls[1].actuals[end]"
   ]
  },
  {
   "cell_type": "code",
   "execution_count": null,
   "id": "644697f9",
   "metadata": {},
   "outputs": [],
   "source": [
    "m[x]"
   ]
  }
 ],
 "metadata": {
  "@webio": {
   "lastCommId": null,
   "lastKernelId": null
  },
  "hide_input": false,
  "kernelspec": {
   "display_name": "Julia 1.6.2",
   "language": "julia",
   "name": "julia-1.6"
  },
  "language_info": {
   "file_extension": ".jl",
   "mimetype": "application/julia",
   "name": "julia",
   "version": "1.6.2"
  }
 },
 "nbformat": 4,
 "nbformat_minor": 5
}
